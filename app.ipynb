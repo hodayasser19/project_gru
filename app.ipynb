{
 "cells": [
  {
   "cell_type": "code",
   "execution_count": 1,
   "id": "5c361522",
   "metadata": {},
   "outputs": [
    {
     "name": "stdout",
     "output_type": "stream",
     "text": [
      " * Serving Flask app '__main__'\n",
      " * Debug mode: off\n"
     ]
    },
    {
     "name": "stderr",
     "output_type": "stream",
     "text": [
      "WARNING: This is a development server. Do not use it in a production deployment. Use a production WSGI server instead.\n",
      " * Running on http://127.0.0.1:5000\n",
      "Press CTRL+C to quit\n",
      "127.0.0.1 - - [06/Mar/2024 18:33:48] \"GET / HTTP/1.1\" 200 -\n",
      "127.0.0.1 - - [06/Mar/2024 18:33:48] \"GET /static/blood.css HTTP/1.1\" 304 -\n",
      "127.0.0.1 - - [06/Mar/2024 18:33:48] \"GET /static/bootstrap.min.css HTTP/1.1\" 304 -\n",
      "127.0.0.1 - - [06/Mar/2024 18:33:56] \"GET /favicon.ico HTTP/1.1\" 404 -\n"
     ]
    }
   ],
   "source": [
    "from flask import Flask , request , jsonify , render_template\n",
    "import pickle\n",
    "import numpy as np\n",
    "from sklearn.metrics import accuracy_score\n",
    "\n",
    "# Create flask app\n",
    "app = Flask(__name__,template_folder='Templates')\n",
    "\n",
    "# Load pickle model\n",
    "model = pickle.load(open(\"model1.pkl\" , \"rb\"))\n",
    "scaler = pickle.load(open('scaler1.pkl',\"rb\"))\n",
    "\n",
    "\n",
    "@app.route('/')\n",
    "def home():\n",
    "    return render_template('index.html')\n",
    "\n",
    "\n",
    "@app.route('/result', methods=[\"POST\"])\n",
    "def result(): \n",
    "    # تحويل البيانات المدخلة إلى أرقام عددية\n",
    "    hemo = float(request.form['hemo'])\n",
    "    nasb = float(request.form['nasb'])\n",
    "    age = int(request.form['age'])\n",
    "    bmi = int(request.form['bmi'])\n",
    "    sex = int(request.form['sex'])\n",
    "    haml = int(request.form['haml'])\n",
    "    smoke = int(request.form['smoke'])\n",
    "    activite = int(request.form['activite'])\n",
    "    amla7 = int(request.form['amla7'])\n",
    "    k7owl = float(request.form['k7owl'])\n",
    "    aghad = int(request.form['aghad'])\n",
    "    fshl = int(request.form['fshl'])\n",
    "    goda = int(request.form['8oda'])\n",
    "\n",
    "    #  بتحويل البيانات إلى مصفوفة numpy\n",
    "    data = np.array([hemo, nasb, age, bmi, sex, haml,smoke, activite, amla7, k7owl, aghad, fshl, goda]).reshape(1, -1)\n",
    "    \n",
    "    #  بتحويل البيانات باستخدام المقياس المدرب\n",
    "    vect = scaler.transform(data)\n",
    "    \n",
    "    # توقع النموذج على البيانات\n",
    "    model_prediction = model.predict(vect)\n",
    "    \n",
    "    return render_template('index.html', label=model_prediction)\n",
    "\n",
    "\n",
    "if __name__ == '__main__':\n",
    "    app.run()"
   ]
  },
  {
   "cell_type": "code",
   "execution_count": 3,
   "id": "e12ead94",
   "metadata": {},
   "outputs": [
    {
     "ename": "SyntaxError",
     "evalue": "invalid syntax (2662776746.py, line 1)",
     "output_type": "error",
     "traceback": [
      "\u001b[1;36m  Cell \u001b[1;32mIn[3], line 1\u001b[1;36m\u001b[0m\n\u001b[1;33m    curl -sSL https://render.com/install | sh\u001b[0m\n\u001b[1;37m              ^\u001b[0m\n\u001b[1;31mSyntaxError\u001b[0m\u001b[1;31m:\u001b[0m invalid syntax\n"
     ]
    }
   ],
   "source": [
    "curl -sSL https://render.com/install | sh\n",
    "render login\n"
   ]
  },
  {
   "cell_type": "code",
   "execution_count": null,
   "id": "12fba420",
   "metadata": {},
   "outputs": [],
   "source": []
  }
 ],
 "metadata": {
  "kernelspec": {
   "display_name": "Python 3 (ipykernel)",
   "language": "python",
   "name": "python3"
  },
  "language_info": {
   "codemirror_mode": {
    "name": "ipython",
    "version": 3
   },
   "file_extension": ".py",
   "mimetype": "text/x-python",
   "name": "python",
   "nbconvert_exporter": "python",
   "pygments_lexer": "ipython3",
   "version": "3.11.4"
  }
 },
 "nbformat": 4,
 "nbformat_minor": 5
}
